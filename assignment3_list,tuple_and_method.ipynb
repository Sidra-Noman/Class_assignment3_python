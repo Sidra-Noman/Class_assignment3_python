{
  "nbformat": 4,
  "nbformat_minor": 0,
  "metadata": {
    "colab": {
      "provenance": [],
      "authorship_tag": "ABX9TyMkaDSI/D2Q7pXow8CBLCuo",
      "include_colab_link": true
    },
    "kernelspec": {
      "name": "python3",
      "display_name": "Python 3"
    },
    "language_info": {
      "name": "python"
    }
  },
  "cells": [
    {
      "cell_type": "markdown",
      "metadata": {
        "id": "view-in-github",
        "colab_type": "text"
      },
      "source": [
        "<a href=\"https://colab.research.google.com/github/Sidra-Noman/Class_assignment3_python/blob/main/assignment3_list%2Ctuple_and_method.ipynb\" target=\"_parent\"><img src=\"https://colab.research.google.com/assets/colab-badge.svg\" alt=\"Open In Colab\"/></a>"
      ]
    },
    {
      "cell_type": "code",
      "execution_count": null,
      "metadata": {
        "colab": {
          "base_uri": "https://localhost:8080/"
        },
        "id": "v6rnf3KnNUx1",
        "outputId": "12afc10c-6731-47d5-8bef-afd7956c7bdb"
      },
      "outputs": [
        {
          "output_type": "stream",
          "name": "stdout",
          "text": [
            "Updated List: [15, 20, 25, 30, 35, 40]\n"
          ]
        }
      ],
      "source": [
        "# 1. Create a list of five numbers and append a new number to it. Print the updated list.\n",
        "numbers = [15, 20, 25, 30, 35]\n",
        "numbers.append(40)\n",
        "print(\"Updated List:\", numbers)"
      ]
    },
    {
      "cell_type": "code",
      "source": [
        "# 2. Extend a list [1, 2, 3] with another list [4, 5, 6]. Print the result.\n",
        "numbers1 = [1, 2, 3]\n",
        "numbers2 = [4, 5, 6]\n",
        "numbers1.extend(numbers2)\n",
        "print(\"Result:\", numbers1)"
      ],
      "metadata": {
        "colab": {
          "base_uri": "https://localhost:8080/"
        },
        "id": "pkj15uSlQlAa",
        "outputId": "fd0ca199-433b-40db-f829-4d545975652b"
      },
      "execution_count": null,
      "outputs": [
        {
          "output_type": "stream",
          "name": "stdout",
          "text": [
            "Result: [1, 2, 3, 4, 5, 6]\n"
          ]
        }
      ]
    },
    {
      "cell_type": "code",
      "source": [
        "# 3. Insert the string \"Python\" at index 2 in the list [\"Java\", \"C++\", \"JavaScript\",\n",
        "# \"Ruby\"].\n",
        "lang = [\"Java\", \"C++\", \"JavaScript\", \"Ruby\"]\n",
        "lang.insert(2, \"Python\")\n",
        "print(\"Updated List:\", lang)"
      ],
      "metadata": {
        "colab": {
          "base_uri": "https://localhost:8080/"
        },
        "id": "49C9mr8QRYlB",
        "outputId": "7fe5e84a-22fd-4d47-caf2-c48e21385ee1"
      },
      "execution_count": null,
      "outputs": [
        {
          "output_type": "stream",
          "name": "stdout",
          "text": [
            "Updated List: ['Java', 'C++', 'Python', 'JavaScript', 'Ruby']\n"
          ]
        }
      ]
    },
    {
      "cell_type": "code",
      "source": [
        "#  Remove the first occurrence of the number 10 from the list [10, 20, 30, 10, 40].\n",
        "numbers = [10,20,30,40]\n",
        "numbers.remove(10)\n",
        "print(\"New list:\",numbers)"
      ],
      "metadata": {
        "colab": {
          "base_uri": "https://localhost:8080/"
        },
        "id": "80lRJqnOSQGs",
        "outputId": "a2a7220c-966e-451c-a31a-4c82713656fa"
      },
      "execution_count": null,
      "outputs": [
        {
          "output_type": "stream",
          "name": "stdout",
          "text": [
            "New list: [20, 30, 40]\n"
          ]
        }
      ]
    },
    {
      "cell_type": "code",
      "source": [
        "# . Use the pop() method to remove the last element from [100, 200, 300, 400] and\n",
        "# print the modified list.\n",
        "elements = [100,200,300,400]\n",
        "elements.pop()\n",
        "print(\"Modified list:\", elements)"
      ],
      "metadata": {
        "colab": {
          "base_uri": "https://localhost:8080/"
        },
        "id": "3Kk5uOT6TA1R",
        "outputId": "ac600405-0de9-4748-830f-c94dff758d34"
      },
      "execution_count": null,
      "outputs": [
        {
          "output_type": "stream",
          "name": "stdout",
          "text": [
            "Modified list: [100, 200, 300]\n"
          ]
        }
      ]
    },
    {
      "cell_type": "code",
      "source": [
        "# 6. Count how many times the number 5 appears in the list [5, 10, 5, 20, 5, 30].\n",
        "numbers = [5, 10, 5, 20, 5, 30]\n",
        "repeat= numbers.count(5)\n",
        "print(\"Count of 5:\", repeat)"
      ],
      "metadata": {
        "colab": {
          "base_uri": "https://localhost:8080/"
        },
        "id": "bG4iCxhAvrlk",
        "outputId": "588330f4-bc15-4d58-b3fa-952714136d7a"
      },
      "execution_count": null,
      "outputs": [
        {
          "output_type": "stream",
          "name": "stdout",
          "text": [
            "Count of 5: 3\n"
          ]
        }
      ]
    },
    {
      "cell_type": "code",
      "source": [
        "# 7. Sort the list [9, 1, 8, 3, 5] in ascending and descending order.\n",
        "numbers = [9, 1, 8, 3, 5]\n",
        "numbers.sort()\n",
        "print(\"Ascending Order:\", numbers)\n",
        "numbers.sort(reverse=True)\n",
        "print(\"Descending Order:\", numbers)"
      ],
      "metadata": {
        "colab": {
          "base_uri": "https://localhost:8080/"
        },
        "id": "5ppHVPvYwnTz",
        "outputId": "9e15b654-cc1a-4025-e8c5-96c890ff081b"
      },
      "execution_count": null,
      "outputs": [
        {
          "output_type": "stream",
          "name": "stdout",
          "text": [
            "Ascending Order: [1, 3, 5, 8, 9]\n",
            "Descending Order: [9, 8, 5, 3, 1]\n"
          ]
        }
      ]
    },
    {
      "cell_type": "code",
      "source": [
        "# 8. Reverse the list [“apple”, “banana”, “cherry”] using the reverse() method.\n",
        "fruits = [\"apple\", \"banana\", \"cherry\"]\n",
        "fruits.reverse()\n",
        "print(\"Reversed List:\", fruits)"
      ],
      "metadata": {
        "colab": {
          "base_uri": "https://localhost:8080/"
        },
        "id": "E08nmrz9xJYt",
        "outputId": "7235c08f-bac7-4ba1-cbb9-485c4ea6eafd"
      },
      "execution_count": null,
      "outputs": [
        {
          "output_type": "stream",
          "name": "stdout",
          "text": [
            "Reversed List: ['cherry', 'banana', 'apple']\n"
          ]
        }
      ]
    },
    {
      "cell_type": "code",
      "source": [
        "# 9. Create a copy of the list [1, 2, 3, 4, 5] and store it in another variable. Modify the\n",
        "# copied list and print both lists.\n",
        "original = [1, 2, 3, 4, 5]\n",
        "copied = original.copy()\n",
        "copied.append(6)\n",
        "print(\"Original List:\", original)\n",
        "print(\"Copied List:\", copied)\n"
      ],
      "metadata": {
        "colab": {
          "base_uri": "https://localhost:8080/"
        },
        "id": "NpylDbpXxfHu",
        "outputId": "a3c58861-6c0b-435c-dd62-86394a6d4a7a"
      },
      "execution_count": null,
      "outputs": [
        {
          "output_type": "stream",
          "name": "stdout",
          "text": [
            "Original List: [1, 2, 3, 4, 5]\n",
            "Copied List: [1, 2, 3, 4, 5, 6]\n"
          ]
        }
      ]
    },
    {
      "cell_type": "code",
      "source": [
        "# 10. Clear all elements from a list [“hello”, “world”, “python”] using the clear()\n",
        "# method.\n",
        "words = [\"hello\", \"world\", \"python\"]\n",
        "words.clear()\n",
        "print(\"Cleared List:\", words)"
      ],
      "metadata": {
        "colab": {
          "base_uri": "https://localhost:8080/"
        },
        "id": "3a3Of27CyIy3",
        "outputId": "a47055cb-9762-4cc1-ebcd-e1a01b256382"
      },
      "execution_count": null,
      "outputs": [
        {
          "output_type": "stream",
          "name": "stdout",
          "text": [
            "Cleared List: []\n"
          ]
        }
      ]
    },
    {
      "cell_type": "code",
      "source": [
        "# 11. Create a tuple with 5 different fruits and print the third fruit.\n",
        "fruits = (\"apple\", \"mango\", \"melon\", \"strawberry\", \"guava\")\n",
        "print(\"Third Fruit:\", fruits[2])"
      ],
      "metadata": {
        "colab": {
          "base_uri": "https://localhost:8080/"
        },
        "id": "jeSCHzq2ySzF",
        "outputId": "da6acbcd-a1c8-4e77-cdf8-ea0d5482a314"
      },
      "execution_count": null,
      "outputs": [
        {
          "output_type": "stream",
          "name": "stdout",
          "text": [
            "Third Fruit: melon\n"
          ]
        }
      ]
    },
    {
      "cell_type": "code",
      "source": [
        "# 12. Convert the tuple (10, 20, 30, 40, 50) into a list, remove the number 30, and convert\n",
        "# it back into a tuple.\n",
        "# Given tuple\n",
        "numbers_tuple = (10, 20, 30, 40, 50)\n",
        "\n",
        "# Convert the tuple to a list\n",
        "numbers_list = list(numbers_tuple)\n",
        "\n",
        "# Remove the number 30 from the list\n",
        "numbers_list.remove(30)\n",
        "\n",
        "# Convert the list back into a tuple\n",
        "numbers_tuple = tuple(numbers_list)\n",
        "\n",
        "# Output the modified tuple\n",
        "print(\"Modified Tuple:\", numbers)\n"
      ],
      "metadata": {
        "colab": {
          "base_uri": "https://localhost:8080/",
          "height": 211
        },
        "id": "8HkffdCayu9N",
        "outputId": "2beb9ab7-ee9d-4ad6-9290-c1756934cea7"
      },
      "execution_count": null,
      "outputs": [
        {
          "output_type": "error",
          "ename": "TypeError",
          "evalue": "'list' object is not callable",
          "traceback": [
            "\u001b[0;31m---------------------------------------------------------------------------\u001b[0m",
            "\u001b[0;31mTypeError\u001b[0m                                 Traceback (most recent call last)",
            "\u001b[0;32m<ipython-input-46-118026bb7659>\u001b[0m in \u001b[0;36m<cell line: 0>\u001b[0;34m()\u001b[0m\n\u001b[1;32m      5\u001b[0m \u001b[0;34m\u001b[0m\u001b[0m\n\u001b[1;32m      6\u001b[0m \u001b[0;31m# Convert the tuple to a list\u001b[0m\u001b[0;34m\u001b[0m\u001b[0;34m\u001b[0m\u001b[0m\n\u001b[0;32m----> 7\u001b[0;31m \u001b[0mnumbers_list\u001b[0m \u001b[0;34m=\u001b[0m \u001b[0mlist\u001b[0m\u001b[0;34m(\u001b[0m\u001b[0mnumbers_tuple\u001b[0m\u001b[0;34m)\u001b[0m\u001b[0;34m\u001b[0m\u001b[0;34m\u001b[0m\u001b[0m\n\u001b[0m\u001b[1;32m      8\u001b[0m \u001b[0;34m\u001b[0m\u001b[0m\n\u001b[1;32m      9\u001b[0m \u001b[0;31m# Remove the number 30 from the list\u001b[0m\u001b[0;34m\u001b[0m\u001b[0;34m\u001b[0m\u001b[0m\n",
            "\u001b[0;31mTypeError\u001b[0m: 'list' object is not callable"
          ]
        }
      ]
    },
    {
      "cell_type": "code",
      "source": [
        "# 13. Try to append an element to the tuple (“A”, “B”, “C”). What happens? How can you\n",
        "# modify a tuple indirectly?\n",
        "# Tuples in Python are immutable, which means that once they are created, their contents cannot be modified. This includes appending, removing, or changing individual elements of the tuple. If we try to append an element to a tuple, we'll encounter an error.\n",
        "# Given tuple\n",
        "tup = (\"A\", \"B\", \"C\")\n",
        "\n",
        "# Step 1: Convert the tuple to a list\n",
        "tup_list = list(tup)\n",
        "\n",
        "# Step 2: Append an element to the list\n",
        "tup_list.append(\"D\")\n",
        "\n",
        "# Step 3: Convert the list back to a tuple\n",
        "new_tup = tuple(tup_list)\n",
        "\n",
        "# Output the modified tuple\n",
        "print(\"Modified Tuple:\", new_tup)\n",
        "\n"
      ],
      "metadata": {
        "colab": {
          "base_uri": "https://localhost:8080/",
          "height": 211
        },
        "id": "STD7ux7MJPzs",
        "outputId": "84c543c5-4023-489e-a34f-2b93b8a6c4bf"
      },
      "execution_count": null,
      "outputs": [
        {
          "output_type": "error",
          "ename": "TypeError",
          "evalue": "'list' object is not callable",
          "traceback": [
            "\u001b[0;31m---------------------------------------------------------------------------\u001b[0m",
            "\u001b[0;31mTypeError\u001b[0m                                 Traceback (most recent call last)",
            "\u001b[0;32m<ipython-input-23-c621632dd067>\u001b[0m in \u001b[0;36m<cell line: 0>\u001b[0;34m()\u001b[0m\n\u001b[1;32m      6\u001b[0m \u001b[0;34m\u001b[0m\u001b[0m\n\u001b[1;32m      7\u001b[0m \u001b[0;31m# Step 1: Convert the tuple to a list\u001b[0m\u001b[0;34m\u001b[0m\u001b[0;34m\u001b[0m\u001b[0m\n\u001b[0;32m----> 8\u001b[0;31m \u001b[0mtup_list\u001b[0m \u001b[0;34m=\u001b[0m \u001b[0mlist\u001b[0m\u001b[0;34m(\u001b[0m\u001b[0mtup\u001b[0m\u001b[0;34m)\u001b[0m\u001b[0;34m\u001b[0m\u001b[0;34m\u001b[0m\u001b[0m\n\u001b[0m\u001b[1;32m      9\u001b[0m \u001b[0;34m\u001b[0m\u001b[0m\n\u001b[1;32m     10\u001b[0m \u001b[0;31m# Step 2: Append an element to the list\u001b[0m\u001b[0;34m\u001b[0m\u001b[0;34m\u001b[0m\u001b[0m\n",
            "\u001b[0;31mTypeError\u001b[0m: 'list' object is not callable"
          ]
        }
      ]
    },
    {
      "cell_type": "code",
      "source": [
        "# 14. Unpack the tuple (100, 200, 300) into three separate variables and print them.\n",
        "numbers = (100, 200, 300)\n",
        "a, b, c = numbers\n",
        "print(\"a:\", a)\n",
        "print(\"b:\", b)\n",
        "print(\"c:\", c)\n",
        "#"
      ],
      "metadata": {
        "colab": {
          "base_uri": "https://localhost:8080/"
        },
        "id": "MebfP1R7KjZ1",
        "outputId": "35775db9-bea9-4a63-b4f5-ba345a65ef00"
      },
      "execution_count": null,
      "outputs": [
        {
          "output_type": "stream",
          "name": "stdout",
          "text": [
            "a: 100\n",
            "b: 200\n",
            "c: 300\n"
          ]
        }
      ]
    },
    {
      "cell_type": "code",
      "source": [
        "# 15. Count the occurrences of 7 in the tuple (7, 1, 7, 3, 7, 5).\n",
        "numbers = (7, 1, 7, 3, 7, 5)\n",
        "count = numbers.count(7)\n",
        "print(\"Count of 7:\", count)"
      ],
      "metadata": {
        "colab": {
          "base_uri": "https://localhost:8080/"
        },
        "id": "I6jWPeZgLaY1",
        "outputId": "da06d0c3-23dc-4b42-bdb1-622bb231135a"
      },
      "execution_count": null,
      "outputs": [
        {
          "output_type": "stream",
          "name": "stdout",
          "text": [
            "Count of 7: 3\n"
          ]
        }
      ]
    },
    {
      "cell_type": "code",
      "source": [
        "# 16. Write a function that takes a list and returns a new list with all even numbers removed.\n",
        "def remove_even_numbers(lst):\n",
        "    return [num for num in lst if num % 2 != 0]\n",
        "\n",
        "numbers = [1, 2, 3, 4, 5, 6, 7, 8, 9, 10]\n",
        "print(\"New list:\", remove_even_numbers(numbers))"
      ],
      "metadata": {
        "colab": {
          "base_uri": "https://localhost:8080/"
        },
        "id": "YtLi4WqRLcA_",
        "outputId": "c608cfad-4ad2-46af-a311-179004e9d179"
      },
      "execution_count": null,
      "outputs": [
        {
          "output_type": "stream",
          "name": "stdout",
          "text": [
            "New list: [1, 3, 5, 7, 9]\n"
          ]
        }
      ]
    },
    {
      "cell_type": "code",
      "source": [
        "# 17. Create a function that accepts a list and returns a new list with elements sorted in\n",
        "# descending order without using the sort() method.\n",
        "def sort_descending(lst):\n",
        "    return sorted(lst, reverse=True)\n",
        "\n",
        "numbers = [5, 2, 9, 1, 7]\n",
        "print(\"New list:\", sort_descending(numbers))\n"
      ],
      "metadata": {
        "colab": {
          "base_uri": "https://localhost:8080/"
        },
        "id": "ohw5-nJjODV5",
        "outputId": "1aa54844-74c6-4c90-958c-18063252a280"
      },
      "execution_count": null,
      "outputs": [
        {
          "output_type": "stream",
          "name": "stdout",
          "text": [
            "New list: [9, 7, 5, 2, 1]\n"
          ]
        }
      ]
    },
    {
      "cell_type": "code",
      "source": [
        "# 18. Given a list of numbers, write a program to remove all duplicate elements and print the\n",
        "# unique elements.\n",
        "numbers = [1, 2, 2, 3, 4, 4, 5, 6, 6]\n",
        "unique_numbers = list(set(numbers))  # Converting to set removes duplicates\n",
        "print(\"Unique Elements:\", unique_numbers)"
      ],
      "metadata": {
        "colab": {
          "base_uri": "https://localhost:8080/",
          "height": 193
        },
        "id": "NpG4xtewOPuS",
        "outputId": "c42c9d30-694c-466f-f023-f8b7b8b72c0a"
      },
      "execution_count": null,
      "outputs": [
        {
          "output_type": "error",
          "ename": "TypeError",
          "evalue": "'list' object is not callable",
          "traceback": [
            "\u001b[0;31m---------------------------------------------------------------------------\u001b[0m",
            "\u001b[0;31mTypeError\u001b[0m                                 Traceback (most recent call last)",
            "\u001b[0;32m<ipython-input-29-2ca455cf3e18>\u001b[0m in \u001b[0;36m<cell line: 0>\u001b[0;34m()\u001b[0m\n\u001b[1;32m      2\u001b[0m \u001b[0;31m# unique elements.\u001b[0m\u001b[0;34m\u001b[0m\u001b[0;34m\u001b[0m\u001b[0m\n\u001b[1;32m      3\u001b[0m \u001b[0mnumbers\u001b[0m \u001b[0;34m=\u001b[0m \u001b[0;34m[\u001b[0m\u001b[0;36m1\u001b[0m\u001b[0;34m,\u001b[0m \u001b[0;36m2\u001b[0m\u001b[0;34m,\u001b[0m \u001b[0;36m2\u001b[0m\u001b[0;34m,\u001b[0m \u001b[0;36m3\u001b[0m\u001b[0;34m,\u001b[0m \u001b[0;36m4\u001b[0m\u001b[0;34m,\u001b[0m \u001b[0;36m4\u001b[0m\u001b[0;34m,\u001b[0m \u001b[0;36m5\u001b[0m\u001b[0;34m,\u001b[0m \u001b[0;36m6\u001b[0m\u001b[0;34m,\u001b[0m \u001b[0;36m6\u001b[0m\u001b[0;34m]\u001b[0m\u001b[0;34m\u001b[0m\u001b[0;34m\u001b[0m\u001b[0m\n\u001b[0;32m----> 4\u001b[0;31m \u001b[0munique_numbers\u001b[0m \u001b[0;34m=\u001b[0m \u001b[0mlist\u001b[0m\u001b[0;34m(\u001b[0m\u001b[0mset\u001b[0m\u001b[0;34m(\u001b[0m\u001b[0mnumbers\u001b[0m\u001b[0;34m)\u001b[0m\u001b[0;34m)\u001b[0m  \u001b[0;31m# Converting to set removes duplicates\u001b[0m\u001b[0;34m\u001b[0m\u001b[0;34m\u001b[0m\u001b[0m\n\u001b[0m\u001b[1;32m      5\u001b[0m \u001b[0mprint\u001b[0m\u001b[0;34m(\u001b[0m\u001b[0;34m\"Unique Elements:\"\u001b[0m\u001b[0;34m,\u001b[0m \u001b[0munique_numbers\u001b[0m\u001b[0;34m)\u001b[0m\u001b[0;34m\u001b[0m\u001b[0;34m\u001b[0m\u001b[0m\n",
            "\u001b[0;31mTypeError\u001b[0m: 'list' object is not callable"
          ]
        }
      ]
    },
    {
      "cell_type": "code",
      "source": [
        "# 19. Given a tuple of names (“Alice”, “Bob”, “Charlie”, “Alice”, “David”), convert\n",
        "# it into a list, remove duplicates, and convert it back to a tuple.\n",
        "names = (\"Alice\", \"Bob\", \"Charlie\", \"Alice\", \"David\")\n",
        "names_list = list(set(names))\n",
        "names_tuple = tuple(names_list)\n",
        "print(\"New Tuple:\", names_tuple)\n"
      ],
      "metadata": {
        "colab": {
          "base_uri": "https://localhost:8080/",
          "height": 211
        },
        "id": "Nlh473gLO4x3",
        "outputId": "390d1c2b-3720-44c9-a692-5c526db521d7"
      },
      "execution_count": null,
      "outputs": [
        {
          "output_type": "error",
          "ename": "TypeError",
          "evalue": "'list' object is not callable",
          "traceback": [
            "\u001b[0;31m---------------------------------------------------------------------------\u001b[0m",
            "\u001b[0;31mTypeError\u001b[0m                                 Traceback (most recent call last)",
            "\u001b[0;32m<ipython-input-30-3cadae037c7d>\u001b[0m in \u001b[0;36m<cell line: 0>\u001b[0;34m()\u001b[0m\n\u001b[1;32m      2\u001b[0m \u001b[0;31m# it into a list, remove duplicates, and convert it back to a tuple.\u001b[0m\u001b[0;34m\u001b[0m\u001b[0;34m\u001b[0m\u001b[0m\n\u001b[1;32m      3\u001b[0m \u001b[0mnames\u001b[0m \u001b[0;34m=\u001b[0m \u001b[0;34m(\u001b[0m\u001b[0;34m\"Alice\"\u001b[0m\u001b[0;34m,\u001b[0m \u001b[0;34m\"Bob\"\u001b[0m\u001b[0;34m,\u001b[0m \u001b[0;34m\"Charlie\"\u001b[0m\u001b[0;34m,\u001b[0m \u001b[0;34m\"Alice\"\u001b[0m\u001b[0;34m,\u001b[0m \u001b[0;34m\"David\"\u001b[0m\u001b[0;34m)\u001b[0m\u001b[0;34m\u001b[0m\u001b[0;34m\u001b[0m\u001b[0m\n\u001b[0;32m----> 4\u001b[0;31m \u001b[0mnames_list\u001b[0m \u001b[0;34m=\u001b[0m \u001b[0mlist\u001b[0m\u001b[0;34m(\u001b[0m\u001b[0mset\u001b[0m\u001b[0;34m(\u001b[0m\u001b[0mnames\u001b[0m\u001b[0;34m)\u001b[0m\u001b[0;34m)\u001b[0m\u001b[0;34m\u001b[0m\u001b[0;34m\u001b[0m\u001b[0m\n\u001b[0m\u001b[1;32m      5\u001b[0m \u001b[0mnames_tuple\u001b[0m \u001b[0;34m=\u001b[0m \u001b[0mtuple\u001b[0m\u001b[0;34m(\u001b[0m\u001b[0mnames_list\u001b[0m\u001b[0;34m)\u001b[0m\u001b[0;34m\u001b[0m\u001b[0;34m\u001b[0m\u001b[0m\n\u001b[1;32m      6\u001b[0m \u001b[0mprint\u001b[0m\u001b[0;34m(\u001b[0m\u001b[0;34m\"New Tuple:\"\u001b[0m\u001b[0;34m,\u001b[0m \u001b[0mnames_tuple\u001b[0m\u001b[0;34m)\u001b[0m\u001b[0;34m\u001b[0m\u001b[0;34m\u001b[0m\u001b[0m\n",
            "\u001b[0;31mTypeError\u001b[0m: 'list' object is not callable"
          ]
        }
      ]
    },
    {
      "cell_type": "code",
      "source": [
        "# 20. Create a program that takes a list of mixed data types (int, str, float) and separates\n",
        "# integers into one list, strings into another, and floats into another.\n",
        "\n",
        "# Mixed data list\n",
        "mixed_data = [10, \"hello\", 3.14, 20, \"world\", 50.5, \"python\", 100]\n",
        "\n",
        "integers = [x for x in mixed_data if type(x) == int]\n",
        "strings = [x for x in mixed_data if type(x) == str]\n",
        "floats = [x for x in mixed_data if type(x) == float]\n",
        "\n",
        "print(\"Integers:\", integers)\n",
        "print(\"Strings:\", strings)\n",
        "print(\"Floats:\", floats)\n"
      ],
      "metadata": {
        "colab": {
          "base_uri": "https://localhost:8080/"
        },
        "id": "V6sAj-7zPjT2",
        "outputId": "c24bf369-c6f3-47d6-bdde-84c99722d048"
      },
      "execution_count": null,
      "outputs": [
        {
          "output_type": "stream",
          "name": "stdout",
          "text": [
            "Integers: [10, 20, 100]\n",
            "Strings: ['hello', 'world', 'python']\n",
            "Floats: [3.14, 50.5]\n"
          ]
        }
      ]
    }
  ]
}